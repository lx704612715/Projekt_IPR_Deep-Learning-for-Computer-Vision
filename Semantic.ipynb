{
 "cells": [
  {
   "cell_type": "code",
   "execution_count": 1,
   "metadata": {},
   "outputs": [
    {
     "name": "stderr",
     "output_type": "stream",
     "text": [
      "Using TensorFlow backend.\n"
     ]
    }
   ],
   "source": [
    "import numpy as np\n",
    "import cv2 as cv\n",
    "import os\n",
    "import YOLO as yolo_class\n",
    "import Unet as unet_class\n",
    "#np.set_printoptions(threshold=np.nan)"
   ]
  },
  {
   "cell_type": "code",
   "execution_count": null,
   "metadata": {},
   "outputs": [
    {
     "name": "stdout",
     "output_type": "stream",
     "text": [
      "True\n",
      "1/1 [==============================] - 3s 3s/step\n",
      "1/1 [==============================] - 0s 277ms/step\n",
      "1/1 [==============================] - 0s 270ms/step\n",
      "1/1 [==============================] - 0s 267ms/step\n",
      "1/1 [==============================] - 0s 282ms/step\n",
      "1/1 [==============================] - 0s 267ms/step\n",
      "1/1 [==============================] - 0s 266ms/step\n",
      "1/1 [==============================] - 0s 266ms/step\n",
      "1/1 [==============================] - 0s 267ms/step\n",
      "1/1 [==============================] - 0s 275ms/step\n",
      "1/1 [==============================] - 0s 266ms/step\n",
      "1/1 [==============================] - 0s 266ms/step\n",
      "1/1 [==============================] - 0s 267ms/step\n",
      "1/1 [==============================] - 0s 271ms/step\n",
      "1/1 [==============================] - 0s 281ms/step\n",
      "1/1 [==============================] - 0s 268ms/step\n",
      "1/1 [==============================] - 0s 274ms/step\n",
      "1/1 [==============================] - 0s 274ms/step\n",
      "1/1 [==============================] - 0s 278ms/step\n",
      "1/1 [==============================] - 0s 285ms/step\n",
      "1/1 [==============================] - 0s 269ms/step\n"
     ]
    }
   ],
   "source": [
    "yolo = yolo_class.YOLO(classesFile=\"coco.names\",modelWeights=\"yolov3.weights\",modelConfiguration=\"yolov3.cfg\")\n",
    "unet = unet_class.Unet('third_training.h5')\n",
    "outputFile = \"test.avi\";\n",
    "videoFile = 'Syrischer Student in KIT.mp4';\n",
    "cap = cv.VideoCapture(videoFile)\n",
    "print(cap.isOpened())\n",
    "Outputfile = videoFile[:-4]\n",
    "vid_writer = cv.VideoWriter(outputFile, cv.VideoWriter_fourcc('M','J','P','G'), 30, (int(cap.get(3)), int(cap.get(4))))         \n",
    "# vid_writer = cv.VideoWriter(outputFile, cv.VideoWriter_fourcc(*'XVID'), 30, (640, 480))    \n",
    "\n",
    "while cv.waitKey(1) < 0:\n",
    "    \n",
    "    # get frame from the video\n",
    "    hasFrame, frame = cap.read()\n",
    "    \n",
    "    # Stop the program if reached end of video\n",
    "    if not hasFrame:\n",
    "        print(\"Done processing !!!\")\n",
    "        print(\"Output file is stored as \", outputFile)\n",
    "        cv.waitKey(3000)\n",
    "        # Release device\n",
    "        cap.release()\n",
    "        break\n",
    "    frame_test = frame.copy()\n",
    "\n",
    "    unet.getMask(frame_test)\n",
    "    \n",
    "    blob = cv.dnn.blobFromImage(frame, 1/255, (yolo.inpWidth, yolo.inpHeight), [0,0,0], 1, crop=False)\n",
    "    yolo.net.setInput(blob)\n",
    "    outs = yolo.net.forward(yolo.getOutputsNames())\n",
    "    yolo.postprocess(frame, outs)\n",
    "    \n",
    "    cv.imshow('yolo', frame) \n",
    "    frame = cv.resize(frame,(640, 480)) \n",
    "    \n",
    "    frame = unet.drawContours(frame)\n",
    "    frame = cv.resize(frame, (int(cap.get(3)), int(cap.get(4))))\n",
    "    cv.imshow('semantic', frame)\n",
    "    frame_write = frame.copy()\n",
    "\n",
    "    vid_writer.write(frame_write.astype(np.uint8))"
   ]
  },
  {
   "cell_type": "code",
   "execution_count": 29,
   "metadata": {},
   "outputs": [],
   "source": [
    "cv.destroyAllWindows()"
   ]
  }
 ],
 "metadata": {
  "kernelspec": {
   "display_name": "Python 3",
   "language": "python",
   "name": "python3"
  },
  "language_info": {
   "codemirror_mode": {
    "name": "ipython",
    "version": 3
   },
   "file_extension": ".py",
   "mimetype": "text/x-python",
   "name": "python",
   "nbconvert_exporter": "python",
   "pygments_lexer": "ipython3",
   "version": "3.5.2"
  },
  "widgets": {
   "state": {},
   "version": "1.1.2"
  }
 },
 "nbformat": 4,
 "nbformat_minor": 2
}
