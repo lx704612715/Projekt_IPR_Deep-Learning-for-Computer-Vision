{
 "cells": [
  {
   "cell_type": "code",
   "execution_count": 1,
   "metadata": {},
   "outputs": [
    {
     "name": "stderr",
     "output_type": "stream",
     "text": [
      "Using TensorFlow backend.\n"
     ]
    }
   ],
   "source": [
    "import keras\n",
    "from keras.preprocessing.image import ImageDataGenerator, array_to_img, img_to_array, load_img\n",
    "import os\n",
    "import numpy as np \n",
    "from PIL import Image\n",
    "import matplotlib.pyplot as plt\n",
    "import glob"
   ]
  },
  {
   "cell_type": "code",
   "execution_count": 2,
   "metadata": {},
   "outputs": [],
   "source": [
    "def myGenerator(train_generator,train_generator1):\n",
    "    while True:\n",
    "        xy = train_generator.next() #or next(train_generator)\n",
    "        xy1 = train_generator1.next() #or next(train_generator1)\n",
    "        yield (xy[0],xy1[0])"
   ]
  },
  {
   "cell_type": "code",
   "execution_count": 4,
   "metadata": {},
   "outputs": [
    {
     "name": "stdout",
     "output_type": "stream",
     "text": [
      "Found 36 images belonging to 1 classes.\n",
      "Found 36 images belonging to 1 classes.\n",
      "Found 7 images belonging to 1 classes.\n",
      "Found 7 images belonging to 1 classes.\n"
     ]
    }
   ],
   "source": [
    "train_datagen = ImageDataGenerator(\n",
    "        rescale=1./255.0,\n",
    "        featurewise_std_normalization=True,\n",
    "        rotation_range=90,\n",
    "        width_shift_range=0.2,\n",
    "        height_shift_range=0.2,\n",
    "        shear_range=0.2,\n",
    "        zoom_range=0.2,\n",
    "        horizontal_flip=True,\n",
    "        fill_mode='constant')\n",
    "seed= 1\n",
    "\n",
    "train_images_generator = train_datagen.flow_from_directory(\n",
    "        'data/train/image',\n",
    "        target_size=(480,640),\n",
    "        batch_size=1,\n",
    "        color_mode=\"rgb\",\n",
    "        class_mode='binary',\n",
    "        save_format='png',\n",
    "        save_to_dir = 'data/Augmentation/Train_image',\n",
    "        save_prefix  = 'Agumentation_image',\n",
    "        seed=seed)\n",
    "train_masks_generator = train_datagen.flow_from_directory(\n",
    "        'data/train/label',\n",
    "        target_size=(480,640),\n",
    "        batch_size=1,\n",
    "        color_mode=\"grayscale\",\n",
    "        class_mode='binary',\n",
    "        save_format='png',\n",
    "        save_to_dir = 'data/Augmentation/Train_mask',\n",
    "        save_prefix  = 'Agumentation_mask',\n",
    "        seed=seed)\n",
    "\n",
    "validation_images_generator = train_datagen.flow_from_directory(\n",
    "        'data/validation/image_validation',\n",
    "        target_size=(480,640),\n",
    "        batch_size=1,\n",
    "        color_mode=\"rgb\",\n",
    "        class_mode='binary',\n",
    "        seed=seed)\n",
    "\n",
    "validation_masks_generator = train_datagen.flow_from_directory(\n",
    "        'data/validation/label_validation',\n",
    "        target_size=(480,640),\n",
    "        batch_size=1,\n",
    "        color_mode=\"grayscale\",\n",
    "        class_mode='binary',\n",
    "        seed=seed)"
   ]
  },
  {
   "cell_type": "markdown",
   "metadata": {},
   "source": [
    "# Paramter \"Image_num\" determins how many images would be created"
   ]
  },
  {
   "cell_type": "code",
   "execution_count": 5,
   "metadata": {},
   "outputs": [
    {
     "name": "stderr",
     "output_type": "stream",
     "text": [
      "/home/xing_usrqj/anaconda3/envs/environment-deep-learning-cookbook/lib/python3.5/site-packages/keras_preprocessing/image.py:988: UserWarning: This ImageDataGenerator specifies `featurewise_center`, but it hasn't been fit on any training data. Fit it first by calling `.fit(numpy_data)`.\n",
      "  warnings.warn('This ImageDataGenerator specifies '\n",
      "/home/xing_usrqj/anaconda3/envs/environment-deep-learning-cookbook/lib/python3.5/site-packages/keras_preprocessing/image.py:996: UserWarning: This ImageDataGenerator specifies `featurewise_std_normalization`, but it hasn't been fit on any training data. Fit it first by calling `.fit(numpy_data)`.\n",
      "  warnings.warn('This ImageDataGenerator specifies '\n"
     ]
    }
   ],
   "source": [
    "image_num = 1\n",
    "for i in range(image_num):\n",
    "    train_images_generator.next()\n",
    "    train_masks_generator.next()"
   ]
  }
 ],
 "metadata": {
  "kernelspec": {
   "display_name": "Python 3",
   "language": "python",
   "name": "python3"
  },
  "language_info": {
   "codemirror_mode": {
    "name": "ipython",
    "version": 3
   },
   "file_extension": ".py",
   "mimetype": "text/x-python",
   "name": "python",
   "nbconvert_exporter": "python",
   "pygments_lexer": "ipython3",
   "version": "3.5.2"
  },
  "widgets": {
   "state": {},
   "version": "1.1.2"
  }
 },
 "nbformat": 4,
 "nbformat_minor": 2
}
